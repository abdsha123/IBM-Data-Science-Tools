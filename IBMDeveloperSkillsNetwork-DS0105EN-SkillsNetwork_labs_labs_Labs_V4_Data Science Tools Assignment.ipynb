{
  "metadata": {
    "language_info": {
      "codemirror_mode": {
        "name": "javascript"
      },
      "file_extension": ".js",
      "mimetype": "text/javascript",
      "name": "p5js",
      "nbconvert_exporter": "javascript",
      "pygments_lexer": "javascript",
      "version": "es2017"
    },
    "kernelspec": {
      "name": "p5js",
      "display_name": "p5.js",
      "language": "javascript"
    }
  },
  "nbformat_minor": 4,
  "nbformat": 4,
  "cells": [
    {
      "cell_type": "markdown",
      "source": "Title: Tools for Data Science - Assignment\n",
      "metadata": {}
    },
    {
      "cell_type": "markdown",
      "source": "Introduction: By completing this Assignment, We will be rewarded a badge.",
      "metadata": {}
    },
    {
      "cell_type": "markdown",
      "source": "Data Science Languages:\nR\nPython\nScala\nJulia\nJava\nRuby\nSAS\nSQL\nJavaScript\nSwift",
      "metadata": {}
    },
    {
      "cell_type": "markdown",
      "source": "Data Science Libraries:\nTensorFlow\nPyTorch\nScikit-learn\nPandas\nNumPy\nMatplotlib\nSciPy\nKeras\nGgplot\nDjango",
      "metadata": {}
    },
    {
      "cell_type": "markdown",
      "source": "Data Science Tools: \nApache Spark\nTableau\nExcel\nApache Hadoop\nRStudio\nOrange\nJulia\nKnime\nTenserFlow\nMicrosoft PowerBi\nPyTorch\nMatlab\nR\nSAS\n",
      "metadata": {}
    },
    {
      "cell_type": "markdown",
      "source": "Arithmetic Expression Examples:",
      "metadata": {}
    },
    {
      "cell_type": "code",
      "source": "x=5\ny=10\nmul=x*y\nsum=x+y\nprint(mul)\nprint(sum)\n",
      "metadata": {
        "trusted": true
      },
      "execution_count": 5,
      "outputs": [
        {
          "execution_count": 5,
          "output_type": "execute_result",
          "data": {},
          "metadata": {}
        },
        {
          "event": "stream",
          "name": "stdout",
          "text": "50\n15\n",
          "output_type": "stream"
        }
      ]
    },
    {
      "cell_type": "code",
      "source": "minutes=180\nhours=180/60\nprint(hours)\n",
      "metadata": {
        "trusted": true
      },
      "execution_count": 4,
      "outputs": [
        {
          "execution_count": 4,
          "output_type": "execute_result",
          "data": {},
          "metadata": {}
        },
        {
          "event": "stream",
          "name": "stdout",
          "text": "3\n",
          "output_type": "stream"
        }
      ]
    },
    {
      "cell_type": "markdown",
      "source": "Objectives:\nJupyter Notebook supports mixing executable code, visuals and text. It allows us to bring together\ndata, code, prose to tell an interactive Story. \nJupyter notebook allows us to create and share documents that contain Code, Equations, \nVisualizations, and text description. It thus helps in Machine Learning and Data Science",
      "metadata": {}
    },
    {
      "cell_type": "markdown",
      "source": "Author: Abdullah Shamshad\n",
      "metadata": {}
    },
    {
      "cell_type": "code",
      "source": "",
      "metadata": {},
      "execution_count": null,
      "outputs": []
    }
  ]
}